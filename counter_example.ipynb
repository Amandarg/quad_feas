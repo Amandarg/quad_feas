{
 "cells": [
  {
   "cell_type": "code",
   "execution_count": 1,
   "metadata": {},
   "outputs": [],
   "source": [
    "import numpy as np"
   ]
  },
  {
   "cell_type": "code",
   "execution_count": 2,
   "metadata": {},
   "outputs": [],
   "source": [
    "P_1 = np.array([[1,2],[2,-1]])\n",
    "P_2 = np.array([[1,3],[3,-1]])\n",
    "P_3 = np.array([[-1,1.5],[1.5,1]])"
   ]
  },
  {
   "cell_type": "markdown",
   "metadata": {},
   "source": [
    "These matrcies are symmetric and trace 0"
   ]
  },
  {
   "cell_type": "code",
   "execution_count": 3,
   "metadata": {},
   "outputs": [
    {
     "name": "stdout",
     "output_type": "stream",
     "text": [
      "P_1\n",
      "[[ 1  2]\n",
      " [ 2 -1]]\n",
      "P_2\n",
      "[[ 1  3]\n",
      " [ 3 -1]]\n",
      "P_3\n",
      "[[-1.   1.5]\n",
      " [ 1.5  1. ]]\n"
     ]
    }
   ],
   "source": [
    "print('P_1')\n",
    "print(P_1)\n",
    "\n",
    "print('P_2')\n",
    "print(P_2)\n",
    "\n",
    "print('P_3')\n",
    "print(P_3)"
   ]
  },
  {
   "cell_type": "markdown",
   "metadata": {},
   "source": [
    "x satisfies\n",
    "$x^TP_1x = x^TP_2x = 1$ and $x^TP_3x < 0$"
   ]
  },
  {
   "cell_type": "code",
   "execution_count": 4,
   "metadata": {},
   "outputs": [
    {
     "name": "stdout",
     "output_type": "stream",
     "text": [
      "x [1 0]\n",
      "x^TP_1x = 1\n",
      "x^TP_2x = 1\n",
      "x^TP_3x = -1.0\n"
     ]
    }
   ],
   "source": [
    "x = np.array([1,0])\n",
    "print('x',x)\n",
    "print('x^TP_1x =', x.T@P_1@x)\n",
    "print('x^TP_2x =', x.T@P_2@x)\n",
    "print('x^TP_3x =', x.T@P_3@x)"
   ]
  },
  {
   "cell_type": "markdown",
   "metadata": {},
   "source": [
    "$P_3 = QDQ^T$ where $Q$ is orthogonal and $D$ is diagonal"
   ]
  },
  {
   "cell_type": "code",
   "execution_count": 5,
   "metadata": {},
   "outputs": [
    {
     "name": "stdout",
     "output_type": "stream",
     "text": [
      "Q is orthogonal:\n",
      "QQ^T= \n",
      "[[1. 0.]\n",
      " [0. 1.]]\n",
      "Q^TQ= \n",
      "[[1. 0.]\n",
      " [0. 1.]]\n",
      "D\n",
      "[[-1.80277564  0.        ]\n",
      " [ 0.          1.80277564]]\n",
      "P_3 = QDQ^T\n",
      "[[-1.   1.5]\n",
      " [ 1.5  1. ]]\n"
     ]
    }
   ],
   "source": [
    "s, Q = np.linalg.eig(P_3)\n",
    "D = np.diag(s)\n",
    "print('Q is orthogonal:')\n",
    "print('QQ^T= ')\n",
    "print(Q@Q.T)\n",
    "print('Q^TQ= ')\n",
    "print(Q.T@Q)\n",
    "print('D')\n",
    "print(D)\n",
    "print('P_3 = QDQ^T')\n",
    "print(Q@D@Q.T)"
   ]
  },
  {
   "cell_type": "markdown",
   "metadata": {},
   "source": [
    "so let $x_{new} = Q^Tx$"
   ]
  },
  {
   "cell_type": "code",
   "execution_count": 6,
   "metadata": {
    "scrolled": true
   },
   "outputs": [],
   "source": [
    "x_new = Q.T@x"
   ]
  },
  {
   "cell_type": "markdown",
   "metadata": {},
   "source": [
    "Then $0> x_{new}^T D x_{new} = x^TP_3x$ by construction"
   ]
  },
  {
   "cell_type": "code",
   "execution_count": 7,
   "metadata": {},
   "outputs": [
    {
     "data": {
      "text/plain": [
       "-0.9999999999999996"
      ]
     },
     "execution_count": 7,
     "metadata": {},
     "output_type": "execute_result"
    }
   ],
   "source": [
    "x_new.T@D@x_new"
   ]
  },
  {
   "cell_type": "markdown",
   "metadata": {},
   "source": [
    "But  $x_{new}^T P_1 x_{new} = x^TQP_1Q^Tx \\neq x^TP_1x$ and $x_{new}^T P_1 x_{new} \\neq x_{new}^T P_2 x_{new}$"
   ]
  },
  {
   "cell_type": "code",
   "execution_count": 8,
   "metadata": {},
   "outputs": [
    {
     "data": {
      "text/plain": [
       "2.2188007849009166"
      ]
     },
     "execution_count": 8,
     "metadata": {},
     "output_type": "execute_result"
    }
   ],
   "source": [
    "x_new.T@P_1@x_new"
   ]
  },
  {
   "cell_type": "code",
   "execution_count": 9,
   "metadata": {},
   "outputs": [
    {
     "data": {
      "text/plain": [
       "3.05085107923876"
      ]
     },
     "execution_count": 9,
     "metadata": {},
     "output_type": "execute_result"
    }
   ],
   "source": [
    "x_new.T@P_2@x_new"
   ]
  }
 ],
 "metadata": {
  "kernelspec": {
   "display_name": "Python 3",
   "language": "python",
   "name": "python3"
  },
  "language_info": {
   "codemirror_mode": {
    "name": "ipython",
    "version": 3
   },
   "file_extension": ".py",
   "mimetype": "text/x-python",
   "name": "python",
   "nbconvert_exporter": "python",
   "pygments_lexer": "ipython3",
   "version": "3.7.6"
  }
 },
 "nbformat": 4,
 "nbformat_minor": 2
}
