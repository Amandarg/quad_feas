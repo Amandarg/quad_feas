{
 "cells": [
  {
   "cell_type": "code",
   "execution_count": 1,
   "metadata": {
    "collapsed": true
   },
   "outputs": [],
   "source": [
    "import numpy as np"
   ]
  },
  {
   "cell_type": "code",
   "execution_count": 68,
   "metadata": {
    "collapsed": true
   },
   "outputs": [],
   "source": [
    "def generate_trace_zero_constraints(dim, num_constraints):\n",
    "    constraints = []\n",
    "    for _ in range(num_constraints):\n",
    "        M = np.random.randn(dim,dim)\n",
    "        M = np.matmul(np.transpose(M),M)\n",
    "        for i in range(dim):\n",
    "            M[i,i] = 0\n",
    "        i = np.random.randint(0,dim)\n",
    "        M[i,i]=1\n",
    "        j = np.random.randint(0,dim)\n",
    "        while(i==j):\n",
    "            j = np.random.randint(0,dim)\n",
    "        M[j,j]=-1\n",
    "        constraints.append(M)\n",
    "    x = np.random.randn(dim,1)\n",
    "\n",
    "    for i in range(len(constraints)):\n",
    "        if np.matmul(np.transpose(x),np.matmul(constraints[i],x)) <0:\n",
    "            constraints[i] = -1*constraints[i]\n",
    "        elif np.matmul(np.transpose(x),np.matmul(constraints[i],x)) ==0:\n",
    "            print('Oh no! Something evaluates to 0!')\n",
    "\n",
    "    return constraints, x"
   ]
  },
  {
   "cell_type": "code",
   "execution_count": 15,
   "metadata": {
    "collapsed": true
   },
   "outputs": [],
   "source": [
    "def get_sigmoid_denom(x):\n",
    "    return 1+np.exp(x)"
   ]
  },
  {
   "cell_type": "code",
   "execution_count": 115,
   "metadata": {},
   "outputs": [],
   "source": [
    "def get_hessian_gradient_objective(dim, num_constraints):\n",
    "    hessian = np.zeros((dim,dim))\n",
    "    grad = np.zeros((dim,1))\n",
    "    obj = 0\n",
    "    \n",
    "    constraints,x = generate_trace_zero_constraints(dim, num_constraints)\n",
    "    #x = 10*x\n",
    "    x = np.random.randn(dim,1)\n",
    "    for constraint in constraints:\n",
    "        quad_form = np.matmul( np.matmul(np.transpose(x), constraint), x)\n",
    "        denom = get_sigmoid_denom(quad_form)\n",
    "        P_x = np.matmul(constraint, x)\n",
    "        \n",
    "        obj +=np.log(1+np.exp(-quad_form))\n",
    "        grad += 2/denom * P_x\n",
    "        hessian += 4*np.exp(quad_form) / (denom*denom)* np.matmul(P_x, np.transpose(P_x)) + 2/denom*constraint\n",
    "    return hessian, grad, obj"
   ]
  },
  {
   "cell_type": "code",
   "execution_count": 92,
   "metadata": {},
   "outputs": [],
   "source": [
    "def check_eigvalues(x):\n",
    "    flag_pos = 0\n",
    "    flag_neg = 0\n",
    "    category = ''\n",
    "    for i in range(len(x)):\n",
    "        if x[i]>0:\n",
    "            flag_pos = 1\n",
    "        elif x[i]<0:\n",
    "            flag_neg = 1\n",
    "    if flag_pos ==1 and flag_neg ==1:\n",
    "        category = 'indefinite'\n",
    "    elif flag_neg ==0 and flag_pos == 1:\n",
    "        category = 'PSD'\n",
    "    else:\n",
    "        category = 'NSD'\n",
    "    print(category)\n",
    "    return "
   ]
  },
  {
   "cell_type": "code",
   "execution_count": 125,
   "metadata": {
    "scrolled": true
   },
   "outputs": [
    {
     "name": "stdout",
     "output_type": "stream",
     "text": [
      "gradient 23.5653388523 objective [[ 16.23154559]]\n",
      "indefinite\n",
      "gradient 15.583736878 objective [[ 4.10119055]]\n",
      "PSD\n",
      "gradient 63.9965293143 objective [[ 75.97152822]]\n",
      "indefinite\n",
      "gradient 9.47022073453 objective [[ 7.10493305]]\n",
      "indefinite\n",
      "gradient 7.47604795174 objective [[ 6.18949041]]\n",
      "indefinite\n",
      "gradient 26.8132740548 objective [[ 16.5228709]]\n",
      "indefinite\n",
      "gradient 19.9075577057 objective [[ 12.11171443]]\n",
      "indefinite\n",
      "gradient 22.6040594631 objective [[ 16.5413973]]\n",
      "indefinite\n",
      "gradient 44.279238311 objective [[ 32.65392099]]\n",
      "indefinite\n",
      "gradient 14.2912866611 objective [[ 7.23314307]]\n",
      "indefinite\n"
     ]
    }
   ],
   "source": [
    "for _ in range(10):\n",
    "    hessian, grad, obj = get_hessian_gradient_objective(3, 10)\n",
    "    print('gradient',np.linalg.norm(grad), 'objective',obj)\n",
    "    eig_val = np.linalg.eig(hessian)[0]\n",
    "    check_eigvalues(eig_val)"
   ]
  },
  {
   "cell_type": "code",
   "execution_count": null,
   "metadata": {
    "collapsed": true
   },
   "outputs": [],
   "source": []
  }
 ],
 "metadata": {
  "kernelspec": {
   "display_name": "Python 3",
   "language": "python",
   "name": "python3"
  },
  "language_info": {
   "codemirror_mode": {
    "name": "ipython",
    "version": 3
   },
   "file_extension": ".py",
   "mimetype": "text/x-python",
   "name": "python",
   "nbconvert_exporter": "python",
   "pygments_lexer": "ipython3",
   "version": "3.5.3"
  }
 },
 "nbformat": 4,
 "nbformat_minor": 2
}
