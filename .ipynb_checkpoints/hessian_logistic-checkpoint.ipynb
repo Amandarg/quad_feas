{
 "cells": [
  {
   "cell_type": "code",
   "execution_count": 2,
   "metadata": {
    "collapsed": true
   },
   "outputs": [],
   "source": [
    "import numpy as np"
   ]
  },
  {
   "cell_type": "code",
   "execution_count": 84,
   "metadata": {},
   "outputs": [
    {
     "name": "stdout",
     "output_type": "stream",
     "text": [
      "[[ 0. -1.  1.  0.  0.  0.  0.  0.]\n",
      " [-1.  1. -1.  1.  0.  0.  0.  0.]\n",
      " [ 1. -1.  1.  0.  0.  0.  0.  0.]\n",
      " [ 0.  1.  0. -1.  0.  0.  0.  0.]\n",
      " [ 0.  0.  0.  0.  0.  0.  0.  0.]\n",
      " [ 0.  0.  0.  0.  0.  0.  0.  0.]\n",
      " [ 0.  0.  0.  0.  0.  0.  0.  0.]\n",
      " [ 0.  0.  0.  0.  0.  0.  0.  0.]]\n",
      "[[ 21.31463163]]\n",
      "[[ 0.  1.  0. -1.  0.  0.  0.  0.]\n",
      " [ 1. -1.  1.  0. -1.  0.  0.  0.]\n",
      " [ 0.  1. -1.  0.  0.  0.  0.  0.]\n",
      " [-1.  0.  0.  1.  0.  0.  0.  0.]\n",
      " [ 0. -1.  0.  0.  1.  0.  0.  0.]\n",
      " [ 0.  0.  0.  0.  0.  0.  0.  0.]\n",
      " [ 0.  0.  0.  0.  0.  0.  0.  0.]\n",
      " [ 0.  0.  0.  0.  0.  0.  0.  0.]]\n",
      "[[-10.30168855]]\n",
      "[[ 0.  0.  1. -1.  0.  0.  0.  0.]\n",
      " [ 0.  0.  0.  1. -1.  0.  0.  0.]\n",
      " [ 1.  0. -1.  0.  0.  0.  0.  0.]\n",
      " [-1.  1.  0. -1.  0.  0.  0.  0.]\n",
      " [ 0. -1.  0.  0.  1.  0.  0.  0.]\n",
      " [ 0.  0.  0.  0.  0.  0.  0.  0.]\n",
      " [ 0.  0.  0.  0.  0.  0.  0.  0.]\n",
      " [ 0.  0.  0.  0.  0.  0.  0.  0.]]\n",
      "[[ 3.531191]]\n",
      "[[ 1. -1.  0.  0.  0.  0.  0.  0.]\n",
      " [-1.  1. -1.  0.  0.  0.  0.  0.]\n",
      " [ 0. -1. -1.  1.  0.  0.  0.  0.]\n",
      " [ 0.  0.  1. -1.  0.  0.  0.  0.]\n",
      " [ 0.  0.  0.  0.  0.  0.  0.  0.]\n",
      " [ 0.  0.  0.  0.  0.  0.  0.  0.]\n",
      " [ 0.  0.  0.  0.  0.  0.  0.  0.]\n",
      " [ 0.  0.  0.  0.  0.  0.  0.  0.]]\n",
      "[[-0.4280316]]\n",
      "[[-1.  1.  0.  0.  0.  0.  0.  0.]\n",
      " [ 1. -1.  1. -1.  0.  0.  0.  0.]\n",
      " [ 0.  1.  0.  0. -1.  0.  0.  0.]\n",
      " [ 0. -1.  0.  1.  0.  0.  0.  0.]\n",
      " [ 0.  0. -1.  0.  1.  0.  0.  0.]\n",
      " [ 0.  0.  0.  0.  0.  0.  0.  0.]\n",
      " [ 0.  0.  0.  0.  0.  0.  0.  0.]\n",
      " [ 0.  0.  0.  0.  0.  0.  0.  0.]]\n",
      "[[-16.98073505]]\n",
      "[[ 0.  0.  0.  0.  0.  0.  0.  0.]\n",
      " [ 0.  0.  1. -1.  0.  0.  0.  0.]\n",
      " [ 0.  1. -1.  1. -1.  0.  0.  0.]\n",
      " [ 0. -1.  1. -1.  0.  0.  0.  0.]\n",
      " [ 0.  0. -1.  0.  1.  0.  0.  0.]\n",
      " [ 0.  0.  0.  0.  0.  0.  0.  0.]\n",
      " [ 0.  0.  0.  0.  0.  0.  0.  0.]\n",
      " [ 0.  0.  0.  0.  0.  0.  0.  0.]]\n",
      "[[-24.55086299]]\n",
      "[[-1.  0.  1.  0.  0.  0.  0.  0.]\n",
      " [ 0. -1. -1.  1.  0.  0.  0.  0.]\n",
      " [ 1. -1.  1. -1.  0.  0.  0.  0.]\n",
      " [ 0.  1. -1.  0.  0.  0.  0.  0.]\n",
      " [ 0.  0.  0.  0.  0.  0.  0.  0.]\n",
      " [ 0.  0.  0.  0.  0.  0.  0.  0.]\n",
      " [ 0.  0.  0.  0.  0.  0.  0.  0.]\n",
      " [ 0.  0.  0.  0.  0.  0.  0.  0.]]\n",
      "[[ 19.78732395]]\n",
      "[[-1.  0.  1.  0.  0.  0.  0.  0.]\n",
      " [ 0. -1.  0.  1.  0.  0.  0.  0.]\n",
      " [ 1.  0.  0. -1.  0.  0.  0.  0.]\n",
      " [ 0.  1. -1.  1. -1.  0.  0.  0.]\n",
      " [ 0.  0.  0. -1.  1.  0.  0.  0.]\n",
      " [ 0.  0.  0.  0.  0.  0.  0.  0.]\n",
      " [ 0.  0.  0.  0.  0.  0.  0.  0.]\n",
      " [ 0.  0.  0.  0.  0.  0.  0.  0.]]\n",
      "[[ 9.96861606]]\n",
      "[[ 0.  0.  0.  0.  0.  0.  0.  0.]\n",
      " [ 0. -1.  1.  0.  0.  0.  0.  0.]\n",
      " [ 0.  1. -1.  1.  0.  0.  0.  0.]\n",
      " [ 0.  0.  1.  1. -1.  0.  0.  0.]\n",
      " [ 0.  0.  0. -1.  1.  0.  0.  0.]\n",
      " [ 0.  0.  0.  0.  0.  0.  0.  0.]\n",
      " [ 0.  0.  0.  0.  0.  0.  0.  0.]\n",
      " [ 0.  0.  0.  0.  0.  0.  0.  0.]]\n",
      "[[-14.6193971]]\n",
      "[[-1.  0.  0.  1.  0.  0.  0.  0.]\n",
      " [ 0. -1.  0. -1.  1.  0.  0.  0.]\n",
      " [ 0.  0.  1.  0. -1.  0.  0.  0.]\n",
      " [ 1. -1.  0.  0.  0.  0.  0.  0.]\n",
      " [ 0.  1. -1.  0.  0.  0.  0.  0.]\n",
      " [ 0.  0.  0.  0.  0.  0.  0.  0.]\n",
      " [ 0.  0.  0.  0.  0.  0.  0.  0.]\n",
      " [ 0.  0.  0.  0.  0.  0.  0.  0.]]\n",
      "[[-8.29473004]]\n",
      "[[-1.  0.  0.  1.  0.  0.  0.  0.]\n",
      " [ 0. -1.  0.  0.  1.  0.  0.  0.]\n",
      " [ 0.  0.  1. -1.  0.  0.  0.  0.]\n",
      " [ 1.  0. -1.  1. -1.  0.  0.  0.]\n",
      " [ 0.  1.  0. -1.  0.  0.  0.  0.]\n",
      " [ 0.  0.  0.  0.  0.  0.  0.  0.]\n",
      " [ 0.  0.  0.  0.  0.  0.  0.  0.]\n",
      " [ 0.  0.  0.  0.  0.  0.  0.  0.]]\n",
      "[[ 6.08152883]]\n",
      "[[ 0.  0.  0.  0.  0.  0.  0.  0.]\n",
      " [ 0.  1.  0. -1.  0.  0.  0.  0.]\n",
      " [ 0.  0.  1.  1. -1.  0.  0.  0.]\n",
      " [ 0. -1.  1. -1.  1.  0.  0.  0.]\n",
      " [ 0.  0. -1.  1.  0.  0.  0.  0.]\n",
      " [ 0.  0.  0.  0.  0.  0.  0.  0.]\n",
      " [ 0.  0.  0.  0.  0.  0.  0.  0.]\n",
      " [ 0.  0.  0.  0.  0.  0.  0.  0.]]\n",
      "[[-5.63471949]]\n"
     ]
    },
    {
     "data": {
      "text/plain": [
       "([array([[ 0., -1.,  1.,  0.,  0.,  0.,  0.,  0.],\n",
       "         [-1.,  1., -1.,  1.,  0.,  0.,  0.,  0.],\n",
       "         [ 1., -1.,  1.,  0.,  0.,  0.,  0.,  0.],\n",
       "         [ 0.,  1.,  0., -1.,  0.,  0.,  0.,  0.],\n",
       "         [ 0.,  0.,  0.,  0.,  0.,  0.,  0.,  0.],\n",
       "         [ 0.,  0.,  0.,  0.,  0.,  0.,  0.,  0.],\n",
       "         [ 0.,  0.,  0.,  0.,  0.,  0.,  0.,  0.],\n",
       "         [ 0.,  0.,  0.,  0.,  0.,  0.,  0.,  0.]]),\n",
       "  array([[ 0.,  1.,  0., -1.,  0.,  0.,  0.,  0.],\n",
       "         [ 1., -1.,  1.,  0., -1.,  0.,  0.,  0.],\n",
       "         [ 0.,  1., -1.,  0.,  0.,  0.,  0.,  0.],\n",
       "         [-1.,  0.,  0.,  1.,  0.,  0.,  0.,  0.],\n",
       "         [ 0., -1.,  0.,  0.,  1.,  0.,  0.,  0.],\n",
       "         [ 0.,  0.,  0.,  0.,  0.,  0.,  0.,  0.],\n",
       "         [ 0.,  0.,  0.,  0.,  0.,  0.,  0.,  0.],\n",
       "         [ 0.,  0.,  0.,  0.,  0.,  0.,  0.,  0.]]),\n",
       "  array([[ 0.,  0.,  1., -1.,  0.,  0.,  0.,  0.],\n",
       "         [ 0.,  0.,  0.,  1., -1.,  0.,  0.,  0.],\n",
       "         [ 1.,  0., -1.,  0.,  0.,  0.,  0.,  0.],\n",
       "         [-1.,  1.,  0., -1.,  0.,  0.,  0.,  0.],\n",
       "         [ 0., -1.,  0.,  0.,  1.,  0.,  0.,  0.],\n",
       "         [ 0.,  0.,  0.,  0.,  0.,  0.,  0.,  0.],\n",
       "         [ 0.,  0.,  0.,  0.,  0.,  0.,  0.,  0.],\n",
       "         [ 0.,  0.,  0.,  0.,  0.,  0.,  0.,  0.]]),\n",
       "  array([[ 1., -1.,  0.,  0.,  0.,  0.,  0.,  0.],\n",
       "         [-1.,  1., -1.,  0.,  0.,  0.,  0.,  0.],\n",
       "         [ 0., -1., -1.,  1.,  0.,  0.,  0.,  0.],\n",
       "         [ 0.,  0.,  1., -1.,  0.,  0.,  0.,  0.],\n",
       "         [ 0.,  0.,  0.,  0.,  0.,  0.,  0.,  0.],\n",
       "         [ 0.,  0.,  0.,  0.,  0.,  0.,  0.,  0.],\n",
       "         [ 0.,  0.,  0.,  0.,  0.,  0.,  0.,  0.],\n",
       "         [ 0.,  0.,  0.,  0.,  0.,  0.,  0.,  0.]]),\n",
       "  array([[-1.,  1.,  0.,  0.,  0.,  0.,  0.,  0.],\n",
       "         [ 1., -1.,  1., -1.,  0.,  0.,  0.,  0.],\n",
       "         [ 0.,  1.,  0.,  0., -1.,  0.,  0.,  0.],\n",
       "         [ 0., -1.,  0.,  1.,  0.,  0.,  0.,  0.],\n",
       "         [ 0.,  0., -1.,  0.,  1.,  0.,  0.,  0.],\n",
       "         [ 0.,  0.,  0.,  0.,  0.,  0.,  0.,  0.],\n",
       "         [ 0.,  0.,  0.,  0.,  0.,  0.,  0.,  0.],\n",
       "         [ 0.,  0.,  0.,  0.,  0.,  0.,  0.,  0.]]),\n",
       "  array([[ 0.,  0.,  0.,  0.,  0.,  0.,  0.,  0.],\n",
       "         [ 0.,  0.,  1., -1.,  0.,  0.,  0.,  0.],\n",
       "         [ 0.,  1., -1.,  1., -1.,  0.,  0.,  0.],\n",
       "         [ 0., -1.,  1., -1.,  0.,  0.,  0.,  0.],\n",
       "         [ 0.,  0., -1.,  0.,  1.,  0.,  0.,  0.],\n",
       "         [ 0.,  0.,  0.,  0.,  0.,  0.,  0.,  0.],\n",
       "         [ 0.,  0.,  0.,  0.,  0.,  0.,  0.,  0.],\n",
       "         [ 0.,  0.,  0.,  0.,  0.,  0.,  0.,  0.]]),\n",
       "  array([[-1.,  0.,  1.,  0.,  0.,  0.,  0.,  0.],\n",
       "         [ 0., -1., -1.,  1.,  0.,  0.,  0.,  0.],\n",
       "         [ 1., -1.,  1., -1.,  0.,  0.,  0.,  0.],\n",
       "         [ 0.,  1., -1.,  0.,  0.,  0.,  0.,  0.],\n",
       "         [ 0.,  0.,  0.,  0.,  0.,  0.,  0.,  0.],\n",
       "         [ 0.,  0.,  0.,  0.,  0.,  0.,  0.,  0.],\n",
       "         [ 0.,  0.,  0.,  0.,  0.,  0.,  0.,  0.],\n",
       "         [ 0.,  0.,  0.,  0.,  0.,  0.,  0.,  0.]]),\n",
       "  array([[-1.,  0.,  1.,  0.,  0.,  0.,  0.,  0.],\n",
       "         [ 0., -1.,  0.,  1.,  0.,  0.,  0.,  0.],\n",
       "         [ 1.,  0.,  0., -1.,  0.,  0.,  0.,  0.],\n",
       "         [ 0.,  1., -1.,  1., -1.,  0.,  0.,  0.],\n",
       "         [ 0.,  0.,  0., -1.,  1.,  0.,  0.,  0.],\n",
       "         [ 0.,  0.,  0.,  0.,  0.,  0.,  0.,  0.],\n",
       "         [ 0.,  0.,  0.,  0.,  0.,  0.,  0.,  0.],\n",
       "         [ 0.,  0.,  0.,  0.,  0.,  0.,  0.,  0.]]),\n",
       "  array([[ 0.,  0.,  0.,  0.,  0.,  0.,  0.,  0.],\n",
       "         [ 0., -1.,  1.,  0.,  0.,  0.,  0.,  0.],\n",
       "         [ 0.,  1., -1.,  1.,  0.,  0.,  0.,  0.],\n",
       "         [ 0.,  0.,  1.,  1., -1.,  0.,  0.,  0.],\n",
       "         [ 0.,  0.,  0., -1.,  1.,  0.,  0.,  0.],\n",
       "         [ 0.,  0.,  0.,  0.,  0.,  0.,  0.,  0.],\n",
       "         [ 0.,  0.,  0.,  0.,  0.,  0.,  0.,  0.],\n",
       "         [ 0.,  0.,  0.,  0.,  0.,  0.,  0.,  0.]]),\n",
       "  array([[-1.,  0.,  0.,  1.,  0.,  0.,  0.,  0.],\n",
       "         [ 0., -1.,  0., -1.,  1.,  0.,  0.,  0.],\n",
       "         [ 0.,  0.,  1.,  0., -1.,  0.,  0.,  0.],\n",
       "         [ 1., -1.,  0.,  0.,  0.,  0.,  0.,  0.],\n",
       "         [ 0.,  1., -1.,  0.,  0.,  0.,  0.,  0.],\n",
       "         [ 0.,  0.,  0.,  0.,  0.,  0.,  0.,  0.],\n",
       "         [ 0.,  0.,  0.,  0.,  0.,  0.,  0.,  0.],\n",
       "         [ 0.,  0.,  0.,  0.,  0.,  0.,  0.,  0.]]),\n",
       "  array([[-1.,  0.,  0.,  1.,  0.,  0.,  0.,  0.],\n",
       "         [ 0., -1.,  0.,  0.,  1.,  0.,  0.,  0.],\n",
       "         [ 0.,  0.,  1., -1.,  0.,  0.,  0.,  0.],\n",
       "         [ 1.,  0., -1.,  1., -1.,  0.,  0.,  0.],\n",
       "         [ 0.,  1.,  0., -1.,  0.,  0.,  0.,  0.],\n",
       "         [ 0.,  0.,  0.,  0.,  0.,  0.,  0.,  0.],\n",
       "         [ 0.,  0.,  0.,  0.,  0.,  0.,  0.,  0.],\n",
       "         [ 0.,  0.,  0.,  0.,  0.,  0.,  0.,  0.]]),\n",
       "  array([[ 0.,  0.,  0.,  0.,  0.,  0.,  0.,  0.],\n",
       "         [ 0.,  1.,  0., -1.,  0.,  0.,  0.,  0.],\n",
       "         [ 0.,  0.,  1.,  1., -1.,  0.,  0.,  0.],\n",
       "         [ 0., -1.,  1., -1.,  1.,  0.,  0.,  0.],\n",
       "         [ 0.,  0., -1.,  1.,  0.,  0.,  0.,  0.],\n",
       "         [ 0.,  0.,  0.,  0.,  0.,  0.,  0.,  0.],\n",
       "         [ 0.,  0.,  0.,  0.,  0.,  0.,  0.,  0.],\n",
       "         [ 0.,  0.,  0.,  0.,  0.,  0.,  0.,  0.]])],\n",
       " array([[ 0.58700202, -1.27109541],\n",
       "        [ 2.66942987, -0.5965704 ],\n",
       "        [ 1.42663203, -1.31303843],\n",
       "        [ 0.73874375,  1.19452878]]))"
      ]
     },
     "execution_count": 84,
     "metadata": {},
     "output_type": "execute_result"
    }
   ],
   "source": [
    "def get_triplet_constraints(n, d):\n",
    "    '''\n",
    "    Generate all triplets\n",
    "    '''\n",
    "    X = np.random.randn(n,d)\n",
    "    constraints = []\n",
    "    \n",
    "    \n",
    "    x = np.reshape(X, (n*d,1))\n",
    "    \n",
    "    for i in range(n):\n",
    "        for j in range(n):\n",
    "            for k in range(j):\n",
    "                if i!=j and i!=k and j!=k:\n",
    "                    q = [i , j, k]\n",
    "                    M = np.zeros((n*d,n*d))\n",
    "                    if np.linalg.norm(X[q[0],:] - X[q[1],:]) < np.linalg.norm(X[q[0],:] - X[q[2],:]):\n",
    "                        close = q[1]\n",
    "                        far = q[2]                      \n",
    "                    else: \n",
    "                        close = q[2]\n",
    "                        far = q[1]\n",
    "                    for l in range(d):\n",
    "                        M[close+l, close+l] = -1\n",
    "                        M[far+l, far+l] =1\n",
    "                        \n",
    "                        M[close+l, q[0]+l ]= 1\n",
    "                        M[far + l, q[0]+l] = -1\n",
    "                        M[q[0]+l, close+l ]= 1\n",
    "                        M[q[0]+l, far + l] = -1 \n",
    "                    constraints.append(M)\n",
    "    for c in constraints:\n",
    "        print(c)\n",
    "        print(np.matmul(np.matmul(np.transpose(x), c),x))\n",
    "    return constraints, X\n",
    "\n",
    "get_triplet_constraints(4,2)"
   ]
  },
  {
   "cell_type": "code",
   "execution_count": 71,
   "metadata": {
    "collapsed": true
   },
   "outputs": [],
   "source": [
    "def generate_trace_zero_constraints(dim, num_constraints):\n",
    "    constraints = []\n",
    "    for _ in range(num_constraints):\n",
    "        M = np.random.randn(dim,dim)\n",
    "        M = np.matmul(np.transpose(M),M)\n",
    "        for i in range(dim):\n",
    "            M[i,i] = 0\n",
    "        i = np.random.randint(0,dim)\n",
    "        M[i,i]=1\n",
    "        j = np.random.randint(0,dim)\n",
    "        while(i==j):\n",
    "            j = np.random.randint(0,dim)\n",
    "        M[j,j]=-1\n",
    "        constraints.append(M)\n",
    "    x = np.random.randn(dim,1)\n",
    "\n",
    "    for i in range(len(constraints)):\n",
    "        if np.matmul(np.transpose(x),np.matmul(constraints[i],x)) <0:\n",
    "            constraints[i] = -1*constraints[i]\n",
    "        elif np.matmul(np.transpose(x),np.matmul(constraints[i],x)) ==0:\n",
    "            print('Oh no! Something evaluates to 0!')\n",
    "\n",
    "    return constraints, x"
   ]
  },
  {
   "cell_type": "code",
   "execution_count": 4,
   "metadata": {
    "collapsed": true
   },
   "outputs": [],
   "source": [
    "def get_sigmoid_denom(x):\n",
    "    return 1+np.exp(x)"
   ]
  },
  {
   "cell_type": "code",
   "execution_count": 5,
   "metadata": {
    "collapsed": true
   },
   "outputs": [],
   "source": [
    "def get_hessian_gradient_objective(dim, num_constraints):\n",
    "    hessian = np.zeros((dim,dim))\n",
    "    grad = np.zeros((dim,1))\n",
    "    obj = 0\n",
    "    \n",
    "    constraints,x = generate_trace_zero_constraints(dim, num_constraints)\n",
    "    #x = 10*x\n",
    "    x = np.random.randn(dim,1)\n",
    "    for constraint in constraints:\n",
    "        quad_form = np.matmul( np.matmul(np.transpose(x), constraint), x)\n",
    "        denom = get_sigmoid_denom(quad_form)\n",
    "        P_x = np.matmul(constraint, x)\n",
    "        \n",
    "        obj +=np.log(1+np.exp(-quad_form))\n",
    "        grad += 2/denom * P_x\n",
    "        hessian += 4*np.exp(quad_form) / (denom*denom)* np.matmul(P_x, np.transpose(P_x)) + 2/denom*constraint\n",
    "    return hessian, grad, obj"
   ]
  },
  {
   "cell_type": "code",
   "execution_count": 63,
   "metadata": {
    "collapsed": true
   },
   "outputs": [],
   "source": [
    "def get_hessian_gradient_objective_triplet(dim, points):\n",
    "    hessian = np.zeros((dim*points,dim*points))\n",
    "    grad = np.zeros((dim*points,1))\n",
    "    obj = 0\n",
    "    \n",
    "    #constraints,x = generate_trace_zero_constraints(dim, num_constraints)\n",
    "    constraints,x = get_triplet_constraints(points, dim)\n",
    "    x = 1000*np.reshape(x, (dim*points,1))\n",
    "    print()\n",
    "    #x = np.random.randn(dim*points,1)\n",
    "    for constraint in constraints:\n",
    "        quad_form = np.matmul( np.matmul(np.transpose(x), constraint), x)\n",
    "        denom = get_sigmoid_denom(quad_form)\n",
    "        P_x = np.matmul(constraint, x)\n",
    "        \n",
    "        obj +=np.log(1+np.exp(-quad_form))\n",
    "        grad += 2/denom * P_x\n",
    "        hessian += 4*np.exp(quad_form) / (denom*denom)* np.matmul(P_x, np.transpose(P_x)) + 2/denom*constraint\n",
    "    return hessian, grad, obj"
   ]
  },
  {
   "cell_type": "code",
   "execution_count": 15,
   "metadata": {
    "collapsed": true
   },
   "outputs": [],
   "source": [
    "def check_eigvalues(x):\n",
    "    flag_pos = 0\n",
    "    flag_neg = 0\n",
    "    category = ''\n",
    "    for i in range(len(x)):\n",
    "        if x[i]>0:\n",
    "            flag_pos = 1\n",
    "        elif x[i]<0:\n",
    "            flag_neg = 1\n",
    "    if flag_pos ==1 and flag_neg ==1:\n",
    "        category = 'indefinite'\n",
    "    elif flag_neg ==0 and flag_pos == 1:\n",
    "        category = 'PSD'\n",
    "    else:\n",
    "        category = 'NSD'\n",
    "    print(category)\n",
    "    return category"
   ]
  },
  {
   "cell_type": "code",
   "execution_count": 64,
   "metadata": {
    "scrolled": true
   },
   "outputs": [
    {
     "name": "stdout",
     "output_type": "stream",
     "text": [
      "\n",
      "gradient 508362.660476 objective [[ inf]]\n"
     ]
    },
    {
     "name": "stderr",
     "output_type": "stream",
     "text": [
      "/anaconda/envs/tensorflow/lib/python3.5/site-packages/ipykernel/__main__.py:18: RuntimeWarning: invalid value encountered in true_divide\n"
     ]
    },
    {
     "ename": "LinAlgError",
     "evalue": "Array must not contain infs or NaNs",
     "output_type": "error",
     "traceback": [
      "\u001b[0;31m---------------------------------------------------------------------------\u001b[0m",
      "\u001b[0;31mLinAlgError\u001b[0m                               Traceback (most recent call last)",
      "\u001b[0;32m<ipython-input-64-61660ca4a8dd>\u001b[0m in \u001b[0;36m<module>\u001b[0;34m()\u001b[0m\n\u001b[1;32m      6\u001b[0m     \u001b[0mhessian\u001b[0m\u001b[0;34m,\u001b[0m \u001b[0mgrad\u001b[0m\u001b[0;34m,\u001b[0m \u001b[0mobj\u001b[0m \u001b[0;34m=\u001b[0m \u001b[0mget_hessian_gradient_objective_triplet\u001b[0m\u001b[0;34m(\u001b[0m\u001b[0;36m2\u001b[0m\u001b[0;34m,\u001b[0m \u001b[0;36m10\u001b[0m\u001b[0;34m)\u001b[0m\u001b[0;34m\u001b[0m\u001b[0m\n\u001b[1;32m      7\u001b[0m     \u001b[0mprint\u001b[0m\u001b[0;34m(\u001b[0m\u001b[0;34m'gradient'\u001b[0m\u001b[0;34m,\u001b[0m\u001b[0mnp\u001b[0m\u001b[0;34m.\u001b[0m\u001b[0mlinalg\u001b[0m\u001b[0;34m.\u001b[0m\u001b[0mnorm\u001b[0m\u001b[0;34m(\u001b[0m\u001b[0mgrad\u001b[0m\u001b[0;34m)\u001b[0m\u001b[0;34m,\u001b[0m \u001b[0;34m'objective'\u001b[0m\u001b[0;34m,\u001b[0m\u001b[0mobj\u001b[0m\u001b[0;34m)\u001b[0m\u001b[0;34m\u001b[0m\u001b[0m\n\u001b[0;32m----> 8\u001b[0;31m     \u001b[0meig_val\u001b[0m \u001b[0;34m=\u001b[0m \u001b[0mnp\u001b[0m\u001b[0;34m.\u001b[0m\u001b[0mlinalg\u001b[0m\u001b[0;34m.\u001b[0m\u001b[0meig\u001b[0m\u001b[0;34m(\u001b[0m\u001b[0mhessian\u001b[0m\u001b[0;34m)\u001b[0m\u001b[0;34m[\u001b[0m\u001b[0;36m0\u001b[0m\u001b[0;34m]\u001b[0m\u001b[0;34m\u001b[0m\u001b[0m\n\u001b[0m\u001b[1;32m      9\u001b[0m     \u001b[0mprint\u001b[0m\u001b[0;34m(\u001b[0m\u001b[0meig_val\u001b[0m\u001b[0;34m)\u001b[0m\u001b[0;34m\u001b[0m\u001b[0m\n\u001b[1;32m     10\u001b[0m     \u001b[0mcategory\u001b[0m \u001b[0;34m=\u001b[0m \u001b[0mcheck_eigvalues\u001b[0m\u001b[0;34m(\u001b[0m\u001b[0meig_val\u001b[0m\u001b[0;34m)\u001b[0m\u001b[0;34m\u001b[0m\u001b[0m\n",
      "\u001b[0;32m/anaconda/envs/tensorflow/lib/python3.5/site-packages/numpy/linalg/linalg.py\u001b[0m in \u001b[0;36meig\u001b[0;34m(a)\u001b[0m\n\u001b[1;32m   1141\u001b[0m     \u001b[0m_assertRankAtLeast2\u001b[0m\u001b[0;34m(\u001b[0m\u001b[0ma\u001b[0m\u001b[0;34m)\u001b[0m\u001b[0;34m\u001b[0m\u001b[0m\n\u001b[1;32m   1142\u001b[0m     \u001b[0m_assertNdSquareness\u001b[0m\u001b[0;34m(\u001b[0m\u001b[0ma\u001b[0m\u001b[0;34m)\u001b[0m\u001b[0;34m\u001b[0m\u001b[0m\n\u001b[0;32m-> 1143\u001b[0;31m     \u001b[0m_assertFinite\u001b[0m\u001b[0;34m(\u001b[0m\u001b[0ma\u001b[0m\u001b[0;34m)\u001b[0m\u001b[0;34m\u001b[0m\u001b[0m\n\u001b[0m\u001b[1;32m   1144\u001b[0m     \u001b[0mt\u001b[0m\u001b[0;34m,\u001b[0m \u001b[0mresult_t\u001b[0m \u001b[0;34m=\u001b[0m \u001b[0m_commonType\u001b[0m\u001b[0;34m(\u001b[0m\u001b[0ma\u001b[0m\u001b[0;34m)\u001b[0m\u001b[0;34m\u001b[0m\u001b[0m\n\u001b[1;32m   1145\u001b[0m \u001b[0;34m\u001b[0m\u001b[0m\n",
      "\u001b[0;32m/anaconda/envs/tensorflow/lib/python3.5/site-packages/numpy/linalg/linalg.py\u001b[0m in \u001b[0;36m_assertFinite\u001b[0;34m(*arrays)\u001b[0m\n\u001b[1;32m    215\u001b[0m     \u001b[0;32mfor\u001b[0m \u001b[0ma\u001b[0m \u001b[0;32min\u001b[0m \u001b[0marrays\u001b[0m\u001b[0;34m:\u001b[0m\u001b[0;34m\u001b[0m\u001b[0m\n\u001b[1;32m    216\u001b[0m         \u001b[0;32mif\u001b[0m \u001b[0;32mnot\u001b[0m \u001b[0;34m(\u001b[0m\u001b[0misfinite\u001b[0m\u001b[0;34m(\u001b[0m\u001b[0ma\u001b[0m\u001b[0;34m)\u001b[0m\u001b[0;34m.\u001b[0m\u001b[0mall\u001b[0m\u001b[0;34m(\u001b[0m\u001b[0;34m)\u001b[0m\u001b[0;34m)\u001b[0m\u001b[0;34m:\u001b[0m\u001b[0;34m\u001b[0m\u001b[0m\n\u001b[0;32m--> 217\u001b[0;31m             \u001b[0;32mraise\u001b[0m \u001b[0mLinAlgError\u001b[0m\u001b[0;34m(\u001b[0m\u001b[0;34m\"Array must not contain infs or NaNs\"\u001b[0m\u001b[0;34m)\u001b[0m\u001b[0;34m\u001b[0m\u001b[0m\n\u001b[0m\u001b[1;32m    218\u001b[0m \u001b[0;34m\u001b[0m\u001b[0m\n\u001b[1;32m    219\u001b[0m \u001b[0;32mdef\u001b[0m \u001b[0m_assertNoEmpty2d\u001b[0m\u001b[0;34m(\u001b[0m\u001b[0;34m*\u001b[0m\u001b[0marrays\u001b[0m\u001b[0;34m)\u001b[0m\u001b[0;34m:\u001b[0m\u001b[0;34m\u001b[0m\u001b[0m\n",
      "\u001b[0;31mLinAlgError\u001b[0m: Array must not contain infs or NaNs"
     ]
    }
   ],
   "source": [
    "trials = 100\n",
    "psd = 0\n",
    "nsd = 0\n",
    "indef = 0\n",
    "for _ in range(trials):\n",
    "    hessian, grad, obj = get_hessian_gradient_objective_triplet(2, 10)\n",
    "    print('gradient',np.linalg.norm(grad), 'objective',obj)\n",
    "    eig_val = np.linalg.eig(hessian)[0]\n",
    "    print(eig_val)\n",
    "    category = check_eigvalues(eig_val)\n",
    "    if category == 'indefinite':\n",
    "        indef +=1\n",
    "    elif category =='PSD':\n",
    "        psd +=1\n",
    "    else:\n",
    "        nsd +=1\n",
    "            \n",
    "print('proportion indef', indef / float(trials))\n",
    "print('proportion psd', psd / float(trials))\n",
    "print('proportion nsd', nsd / float(trials))"
   ]
  },
  {
   "cell_type": "code",
   "execution_count": 38,
   "metadata": {},
   "outputs": [],
   "source": [
    "X = np.random.randn(3,2)"
   ]
  },
  {
   "cell_type": "code",
   "execution_count": 39,
   "metadata": {},
   "outputs": [
    {
     "name": "stdout",
     "output_type": "stream",
     "text": [
      "[[-0.23182879  1.16931282]\n",
      " [ 0.66772429 -0.47582168]\n",
      " [ 0.54905949 -0.22580684]]\n"
     ]
    }
   ],
   "source": [
    "print(X)"
   ]
  },
  {
   "cell_type": "code",
   "execution_count": 56,
   "metadata": {},
   "outputs": [],
   "source": [
    "test= np.reshape(X, (6,1))"
   ]
  },
  {
   "cell_type": "code",
   "execution_count": 58,
   "metadata": {},
   "outputs": [
    {
     "name": "stdout",
     "output_type": "stream",
     "text": [
      "[[-0.23182879]\n",
      " [ 1.16931282]\n",
      " [ 0.66772429]\n",
      " [-0.47582168]\n",
      " [ 0.54905949]\n",
      " [-0.22580684]]\n"
     ]
    }
   ],
   "source": [
    "print(test)"
   ]
  },
  {
   "cell_type": "code",
   "execution_count": null,
   "metadata": {
    "collapsed": true
   },
   "outputs": [],
   "source": []
  }
 ],
 "metadata": {
  "kernelspec": {
   "display_name": "Python 3",
   "language": "python",
   "name": "python3"
  },
  "language_info": {
   "codemirror_mode": {
    "name": "ipython",
    "version": 3
   },
   "file_extension": ".py",
   "mimetype": "text/x-python",
   "name": "python",
   "nbconvert_exporter": "python",
   "pygments_lexer": "ipython3",
   "version": "3.5.3"
  }
 },
 "nbformat": 4,
 "nbformat_minor": 2
}
